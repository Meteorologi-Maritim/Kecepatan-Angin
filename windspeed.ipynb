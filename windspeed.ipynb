{
 "cells": [
  {
   "cell_type": "code",
   "execution_count": 2,
   "id": "ed06b488",
   "metadata": {},
   "outputs": [],
   "source": [
    "import time\n",
    "import requests\n",
    "import numpy as np\n",
    "import matplotlib.pyplot as plt\n",
    "from matplotlib import style\n",
    "from scipy.interpolate import make_interp_spline\n",
    "from datetime import datetime\n",
    "import pytz\n",
    "import sounddevice as sd\n",
    "from IPython.display import clear_output"
   ]
  },
  {
   "cell_type": "code",
   "execution_count": 3,
   "id": "1a3dffda",
   "metadata": {},
   "outputs": [
    {
     "name": "stdout",
     "output_type": "stream",
     "text": [
      "📡 Mengambil data ke-3...\n",
      "🌬️ Kecepatan angin: 6.72 m/s\n",
      "🚨 ALERT: Kecepatan angin melebihi ambang batas!\n"
     ]
    },
    {
     "data": {
      "text/plain": [
       "None"
      ]
     },
     "metadata": {},
     "output_type": "display_data"
    },
    {
     "data": {
      "image/png": "[encoded data removed]",
      "text/plain": [
       "<Figure size 1000x400 with 1 Axes>"
      ]
     },
     "metadata": {},
     "output_type": "display_data"
    },
    {
     "ename": "KeyboardInterrupt",
     "evalue": "",
     "output_type": "error",
     "traceback": [
      "\u001b[31m---------------------------------------------------------------------------\u001b[39m",
      "\u001b[31mKeyboardInterrupt\u001b[39m                         Traceback (most recent call last)",
      "\u001b[36mCell\u001b[39m\u001b[36m \u001b[39m\u001b[32mIn[3]\u001b[39m\u001b[32m, line 70\u001b[39m\n\u001b[32m     67\u001b[39m plt.tight_layout()\n\u001b[32m     68\u001b[39m plt.show()\n\u001b[32m---> \u001b[39m\u001b[32m70\u001b[39m \u001b[43mtime\u001b[49m\u001b[43m.\u001b[49m\u001b[43msleep\u001b[49m\u001b[43m(\u001b[49m\u001b[43minterval\u001b[49m\u001b[43m)\u001b[49m\n",
      "\u001b[31mKeyboardInterrupt\u001b[39m: "
     ]
    }
   ],
   "source": [
    "# Konfigurasi\n",
    "API_KEY = \"1b67ed28df7beecb47878263ea8d09a7\"\n",
    "threshold = 2.5\n",
    "interval = 5\n",
    "num_iterations = 10\n",
    "lat = -7.9885\n",
    "lon = 110.3783\n",
    "\n",
    "# Gunakan style grafik\n",
    "plt.style.use('ggplot')\n",
    "\n",
    "# Zona waktu Asia/Jakarta\n",
    "jakarta_tz = pytz.timezone(\"Asia/Jakarta\")\n",
    "\n",
    "def generate_beep(frequency=880, duration=0.4, fs=44100):\n",
    "    t = np.linspace(0, duration, int(fs * duration), endpoint=False)\n",
    "    audio = np.sin(2 * np.pi * frequency * t)\n",
    "    sd.play(audio, samplerate=fs)\n",
    "    sd.wait()\n",
    "\n",
    "\n",
    "def get_wind_speed():\n",
    "    url = f\"http://api.openweathermap.org/data/2.5/weather?lat={lat}&lon={lon}&appid={API_KEY}&units=metric\"\n",
    "    try:\n",
    "        response = requests.get(url)\n",
    "        response.raise_for_status()\n",
    "        data = response.json()\n",
    "        wind_speed = data['wind']['speed']\n",
    "        return wind_speed\n",
    "    except Exception as e:\n",
    "        print(\"❌ Gagal mengambil data:\", e)\n",
    "        return None\n",
    "\n",
    "timestamps = []\n",
    "wind_speeds = []\n",
    "\n",
    "for i in range(num_iterations):\n",
    "    clear_output(wait=True)\n",
    "    print(f\"📡 Mengambil data ke-{i+1}...\")\n",
    "\n",
    "    wind_speed = get_wind_speed()\n",
    "    current_time = datetime.now(jakarta_tz).strftime(\"%H:%M:%S\")\n",
    "    timestamps.append(current_time)\n",
    "\n",
    "    if wind_speed is not None:\n",
    "        wind_speeds.append(wind_speed)\n",
    "        print(f\"🌬️ Kecepatan angin: {wind_speed:.2f} m/s\")\n",
    "        if wind_speed > threshold:\n",
    "            print(\"🚨 ALERT: Kecepatan angin melebihi ambang batas!\")\n",
    "            display(generate_beep())\n",
    "        else:\n",
    "            print(\"✅ Aman\")\n",
    "    else:\n",
    "        wind_speeds.append(0)\n",
    "        print(\"⚠️ Tidak ada data\")\n",
    "\n",
    "    # Grafik\n",
    "    plt.figure(figsize=(10, 4))\n",
    "    plt.plot(timestamps, wind_speeds, marker='o', linestyle='-', color='blue')\n",
    "    plt.axhline(y=threshold, color='red', linestyle='--', label='Ambang Batas')\n",
    "    plt.title('Monitoring Kecepatan Angin')\n",
    "    plt.xlabel('Waktu (WIB)')\n",
    "    plt.ylabel('Kecepatan Angin (m/s)')\n",
    "    plt.xticks(rotation=45)\n",
    "    plt.legend()\n",
    "    plt.grid(True)\n",
    "    plt.tight_layout()\n",
    "    plt.show()\n",
    "\n",
    "    time.sleep(interval)"
   ]
  }
 ],
 "metadata": {
  "kernelspec": {
   "display_name": "Python 3",
   "language": "python",
   "name": "python3"
  },
  "language_info": {
   "codemirror_mode": {
    "name": "ipython",
    "version": 3
   },
   "file_extension": ".py",
   "mimetype": "text/x-python",
   "name": "python",
   "nbconvert_exporter": "python",
   "pygments_lexer": "ipython3",
   "version": "3.11.9"
  }
 },
 "nbformat": 4,
 "nbformat_minor": 5
}
